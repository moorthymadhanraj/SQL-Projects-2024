{
 "cells": [
  {
   "cell_type": "code",
   "execution_count": 1,
   "id": "2496f391",
   "metadata": {},
   "outputs": [
    {
     "ename": "SyntaxError",
     "evalue": "invalid syntax (3007286525.py, line 2)",
     "output_type": "error",
     "traceback": [
      "\u001b[1;36m  Input \u001b[1;32mIn [1]\u001b[1;36m\u001b[0m\n\u001b[1;33m    SELECT report_id,\u001b[0m\n\u001b[1;37m           ^\u001b[0m\n\u001b[1;31mSyntaxError\u001b[0m\u001b[1;31m:\u001b[0m invalid syntax\n"
     ]
    }
   ],
   "source": [
    "# Strings\n",
    "SELECT report_id,\n",
    "        course_id,\n",
    "        UPPER(student) AS student_cap,\n",
    "        score\n",
    "FROM scores;"
   ]
  },
  {
   "cell_type": "code",
   "execution_count": null,
   "id": "611666f0",
   "metadata": {},
   "outputs": [],
   "source": [
    "# Numbers\n",
    "SELECT report_id,\n",
    "        course_id,\n",
    "        UPPER(student) AS student_cap,\n",
    "        score,\n",
    "        score + 10 AS updated_score\n",
    "FROM scores;"
   ]
  },
  {
   "cell_type": "code",
   "execution_count": null,
   "id": "c9c9fbbc",
   "metadata": {},
   "outputs": [],
   "source": [
    "# Date/Time\n",
    "SELECT report_id,\n",
    "        EXTRACT(YEAR FROM rental_date) AS r_year\n",
    "FROM scores;"
   ]
  },
  {
   "cell_type": "code",
   "execution_count": null,
   "id": "111d76f7",
   "metadata": {},
   "outputs": [],
   "source": [
    "# System Tables\n",
    "\n",
    "# PostgreSQL\n",
    "SELECT *\n",
    "FROM pg_catalog.pg_tables\n",
    "WHERE schemaname = 'public';\n",
    "\n",
    "# SQL Server - TSQL\n",
    "SELECT * \n",
    "FROM INFORMATION_SCHEMA:TABLES;\n",
    "\n",
    "# MySQL\n",
    "\n",
    "SHOW Tables;"
   ]
  },
  {
   "cell_type": "code",
   "execution_count": null,
   "id": "18021cf4",
   "metadata": {},
   "outputs": [],
   "source": []
  },
  {
   "cell_type": "code",
   "execution_count": null,
   "id": "8a7b8f13",
   "metadata": {},
   "outputs": [],
   "source": []
  },
  {
   "cell_type": "code",
   "execution_count": null,
   "id": "f2031fa6",
   "metadata": {},
   "outputs": [],
   "source": []
  },
  {
   "cell_type": "code",
   "execution_count": null,
   "id": "277d6fed",
   "metadata": {},
   "outputs": [],
   "source": []
  },
  {
   "cell_type": "code",
   "execution_count": null,
   "id": "3068ac1a",
   "metadata": {},
   "outputs": [],
   "source": []
  }
 ],
 "metadata": {
  "kernelspec": {
   "display_name": "Python 3 (ipykernel)",
   "language": "python",
   "name": "python3"
  },
  "language_info": {
   "codemirror_mode": {
    "name": "ipython",
    "version": 3
   },
   "file_extension": ".py",
   "mimetype": "text/x-python",
   "name": "python",
   "nbconvert_exporter": "python",
   "pygments_lexer": "ipython3",
   "version": "3.9.12"
  }
 },
 "nbformat": 4,
 "nbformat_minor": 5
}
