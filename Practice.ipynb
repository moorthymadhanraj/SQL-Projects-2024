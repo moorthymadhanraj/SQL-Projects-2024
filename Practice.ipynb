{
 "cells": [
  {
   "cell_type": "code",
   "execution_count": 1,
   "id": "abe8f375",
   "metadata": {},
   "outputs": [
    {
     "ename": "SyntaxError",
     "evalue": "invalid syntax (3007286525.py, line 2)",
     "output_type": "error",
     "traceback": [
      "\u001b[1;36m  Input \u001b[1;32mIn [1]\u001b[1;36m\u001b[0m\n\u001b[1;33m    SELECT report_id,\u001b[0m\n\u001b[1;37m           ^\u001b[0m\n\u001b[1;31mSyntaxError\u001b[0m\u001b[1;31m:\u001b[0m invalid syntax\n"
     ]
    }
   ],
   "source": [
    "# Strings\n",
    "SELECT report_id,\n",
    "        course_id,\n",
    "        UPPER(student) AS student_cap,\n",
    "        score\n",
    "FROM scores;"
   ]
  },
  {
   "cell_type": "code",
   "execution_count": null,
   "id": "0075ed25",
   "metadata": {},
   "outputs": [],
   "source": [
    "# Numbers\n",
    "SELECT report_id,\n",
    "        course_id,\n",
    "        UPPER(student) AS student_cap,\n",
    "        score,\n",
    "        score + 10 AS updated_score\n",
    "FROM scores;"
   ]
  },
  {
   "cell_type": "code",
   "execution_count": null,
   "id": "96fa874a",
   "metadata": {},
   "outputs": [],
   "source": [
    "# Date/Time\n",
    "SELECT report_id,\n",
    "        EXTRACT(YEAR FROM rental_date) AS r_year\n",
    "FROM scores;"
   ]
  },
  {
   "cell_type": "code",
   "execution_count": null,
   "id": "8bf04663",
   "metadata": {},
   "outputs": [],
   "source": []
  },
  {
   "cell_type": "code",
   "execution_count": null,
   "id": "5e80fbd3",
   "metadata": {},
   "outputs": [],
   "source": []
  }
 ],
 "metadata": {
  "kernelspec": {
   "display_name": "Python 3 (ipykernel)",
   "language": "python",
   "name": "python3"
  },
  "language_info": {
   "codemirror_mode": {
    "name": "ipython",
    "version": 3
   },
   "file_extension": ".py",
   "mimetype": "text/x-python",
   "name": "python",
   "nbconvert_exporter": "python",
   "pygments_lexer": "ipython3",
   "version": "3.9.12"
  }
 },
 "nbformat": 4,
 "nbformat_minor": 5
}
