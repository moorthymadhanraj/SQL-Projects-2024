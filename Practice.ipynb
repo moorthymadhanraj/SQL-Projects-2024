{
 "cells": [
  {
   "cell_type": "code",
   "execution_count": 1,
   "id": "5e63042f",
   "metadata": {},
   "outputs": [
    {
     "ename": "SyntaxError",
     "evalue": "invalid syntax (3007286525.py, line 2)",
     "output_type": "error",
     "traceback": [
      "\u001b[1;36m  Input \u001b[1;32mIn [1]\u001b[1;36m\u001b[0m\n\u001b[1;33m    SELECT report_id,\u001b[0m\n\u001b[1;37m           ^\u001b[0m\n\u001b[1;31mSyntaxError\u001b[0m\u001b[1;31m:\u001b[0m invalid syntax\n"
     ]
    }
   ],
   "source": [
    "# Strings\n",
    "SELECT report_id,\n",
    "        course_id,\n",
    "        UPPER(student) AS student_cap,\n",
    "        score\n",
    "FROM scores;"
   ]
  },
  {
   "cell_type": "code",
   "execution_count": null,
   "id": "3a3ff87c",
   "metadata": {},
   "outputs": [],
   "source": [
    "# Numbers\n",
    "SELECT report_id,\n",
    "        course_id,\n",
    "        UPPER(student) AS student_cap,\n",
    "        score,\n",
    "        score + 10 AS updated_score\n",
    "FROM scores;"
   ]
  },
  {
   "cell_type": "code",
   "execution_count": null,
   "id": "1d65d1f3",
   "metadata": {},
   "outputs": [],
   "source": [
    "# Date/Time\n",
    "SELECT report_id,\n",
    "        EXTRACT(YEAR FROM rental_date) AS r_year\n",
    "FROM scores;"
   ]
  },
  {
   "cell_type": "markdown",
   "id": "9919fc78",
   "metadata": {},
   "source": [
    "### System Tables"
   ]
  },
  {
   "cell_type": "code",
   "execution_count": 3,
   "id": "c3a04c58",
   "metadata": {},
   "outputs": [
    {
     "ename": "SyntaxError",
     "evalue": "invalid syntax (2208778617.py, line 2)",
     "output_type": "error",
     "traceback": [
      "\u001b[1;36m  Input \u001b[1;32mIn [3]\u001b[1;36m\u001b[0m\n\u001b[1;33m    SELECT *\u001b[0m\n\u001b[1;37m            ^\u001b[0m\n\u001b[1;31mSyntaxError\u001b[0m\u001b[1;31m:\u001b[0m invalid syntax\n"
     ]
    }
   ],
   "source": [
    "# PostgreSQL\n",
    "SELECT *\n",
    "FROM pg_catalog.pg_tables\n",
    "WHERE schemaname = 'public';\n",
    "\n",
    "# SQL Server - TSQL\n",
    "SELECT * \n",
    "FROM INFORMATION_SCHEMA.TABLES;\n",
    "\n",
    "# MySQL\n",
    "\n",
    "SHOW Tables;"
   ]
  },
  {
   "cell_type": "markdown",
   "id": "21f31bed",
   "metadata": {},
   "source": [
    "### All Tables & Columns"
   ]
  },
  {
   "cell_type": "code",
   "execution_count": null,
   "id": "633f8baf",
   "metadata": {},
   "outputs": [],
   "source": [
    "# To view all tables, schema, columns, etc\n",
    "SELECT * \n",
    "FROM information_schema.columns\n",
    "WHERE table_schema = 'public';\n",
    "\n",
    "# Aggregate all columns of a table in a single row\n",
    "SELECT table_name\n",
    "        STRING_AGG(column_name, ', ') AS columns\n",
    "FROM information_schema.columns\n",
    "WHERE table_schema = 'public'\n",
    "GROUP BY table_name;"
   ]
  },
  {
   "cell_type": "markdown",
   "id": "eb1efda4",
   "metadata": {},
   "source": [
    "### Views"
   ]
  },
  {
   "cell_type": "code",
   "execution_count": null,
   "id": "3a70cdd8",
   "metadata": {},
   "outputs": [],
   "source": [
    "--# VIEW\n",
    "CREATE VIEW tab_col_view AS\n",
    "SELECT table_name,\n",
    "    STRING_AGG(column_name, ', ') AS columns\n",
    "FROM information_schema.columns\n",
    "WHERE table_schema = 'public'\n",
    "GROUP BY table_name;"
   ]
  },
  {
   "cell_type": "code",
   "execution_count": null,
   "id": "6ba632a9",
   "metadata": {},
   "outputs": [],
   "source": []
  }
 ],
 "metadata": {
  "kernelspec": {
   "display_name": "Python 3 (ipykernel)",
   "language": "python",
   "name": "python3"
  },
  "language_info": {
   "codemirror_mode": {
    "name": "ipython",
    "version": 3
   },
   "file_extension": ".py",
   "mimetype": "text/x-python",
   "name": "python",
   "nbconvert_exporter": "python",
   "pygments_lexer": "ipython3",
   "version": "3.9.12"
  }
 },
 "nbformat": 4,
 "nbformat_minor": 5
}
