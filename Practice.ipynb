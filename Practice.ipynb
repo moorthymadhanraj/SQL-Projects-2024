{
 "cells": [
  {
   "cell_type": "code",
   "execution_count": 1,
   "id": "63c514fc",
   "metadata": {},
   "outputs": [
    {
     "ename": "SyntaxError",
     "evalue": "invalid syntax (3007286525.py, line 2)",
     "output_type": "error",
     "traceback": [
      "\u001b[1;36m  Input \u001b[1;32mIn [1]\u001b[1;36m\u001b[0m\n\u001b[1;33m    SELECT report_id,\u001b[0m\n\u001b[1;37m           ^\u001b[0m\n\u001b[1;31mSyntaxError\u001b[0m\u001b[1;31m:\u001b[0m invalid syntax\n"
     ]
    }
   ],
   "source": [
    "# Strings\n",
    "SELECT report_id,\n",
    "        course_id,\n",
    "        UPPER(student) AS student_cap,\n",
    "        score\n",
    "FROM scores;"
   ]
  },
  {
   "cell_type": "code",
   "execution_count": null,
   "id": "72ddb0b3",
   "metadata": {},
   "outputs": [],
   "source": [
    "# Numbers\n",
    "SELECT report_id,\n",
    "        course_id,\n",
    "        UPPER(student) AS student_cap,\n",
    "        score,\n",
    "        score + 10 AS updated_score\n",
    "FROM scores;"
   ]
  },
  {
   "cell_type": "code",
   "execution_count": null,
   "id": "c9ca7ac3",
   "metadata": {},
   "outputs": [],
   "source": [
    "# Date/Time\n",
    "SELECT report_id,\n",
    "        EXTRACT(YEAR FROM rental_date) AS r_year\n",
    "FROM scores;"
   ]
  },
  {
   "cell_type": "markdown",
   "id": "89d1be31",
   "metadata": {},
   "source": [
    "### System Tables"
   ]
  },
  {
   "cell_type": "code",
   "execution_count": 3,
   "id": "34232abc",
   "metadata": {},
   "outputs": [
    {
     "ename": "SyntaxError",
     "evalue": "invalid syntax (2208778617.py, line 2)",
     "output_type": "error",
     "traceback": [
      "\u001b[1;36m  Input \u001b[1;32mIn [3]\u001b[1;36m\u001b[0m\n\u001b[1;33m    SELECT *\u001b[0m\n\u001b[1;37m            ^\u001b[0m\n\u001b[1;31mSyntaxError\u001b[0m\u001b[1;31m:\u001b[0m invalid syntax\n"
     ]
    }
   ],
   "source": [
    "# PostgreSQL\n",
    "SELECT *\n",
    "FROM pg_catalog.pg_tables\n",
    "WHERE schemaname = 'public';\n",
    "\n",
    "# SQL Server - TSQL\n",
    "SELECT * \n",
    "FROM INFORMATION_SCHEMA.TABLES;\n",
    "\n",
    "# MySQL\n",
    "\n",
    "SHOW Tables;"
   ]
  },
  {
   "cell_type": "markdown",
   "id": "883d8b24",
   "metadata": {},
   "source": [
    "### All Tables & Columns"
   ]
  },
  {
   "cell_type": "code",
   "execution_count": null,
   "id": "219b2d17",
   "metadata": {},
   "outputs": [],
   "source": [
    "# To view all tables, schema, columns, etc\n",
    "SELECT * \n",
    "FROM information_schema.columns\n",
    "WHERE table_schema = 'public';\n",
    "\n",
    "# Aggregate all columns of a table in a single row\n",
    "SELECT table_name\n",
    "        STRING_AGG(column_name, ', ') AS columns\n",
    "FROM information_schema.columns\n",
    "WHERE table_schema = 'public'\n",
    "GROUP BY table_name;"
   ]
  },
  {
   "cell_type": "markdown",
   "id": "5f8336c3",
   "metadata": {},
   "source": [
    "### Views"
   ]
  },
  {
   "cell_type": "code",
   "execution_count": null,
   "id": "158f8820",
   "metadata": {},
   "outputs": [],
   "source": [
    "--# VIEW\n",
    "CREATE VIEW tab_col_view AS\n",
    "SELECT table_name,\n",
    "    STRING_AGG(column_name, ', ') AS columns\n",
    "FROM information_schema.columns\n",
    "WHERE table_schema = 'public'\n",
    "GROUP BY table_name;"
   ]
  },
  {
   "cell_type": "markdown",
   "id": "65d7903d",
   "metadata": {},
   "source": [
    "## Creating TABLES"
   ]
  },
  {
   "cell_type": "code",
   "execution_count": null,
   "id": "0a0dffd8",
   "metadata": {},
   "outputs": [],
   "source": [
    "# TABLE with New Data\n",
    "\n",
    "-- CREATE TABLES\n",
    "CREATE TABLE zip_distance (\n",
    "\tpostal_code INT,\n",
    "\tdistance FLOAT\n",
    ");\n",
    "\n",
    "-- INSERT DATA\n",
    "INSERT INTO zip_distance (postal_code, distance)\n",
    "VALUES\n",
    "(53182, 3.4),\n",
    "(15540, 10.2),\n",
    "(67918, 2.9);\n"
   ]
  },
  {
   "cell_type": "code",
   "execution_count": null,
   "id": "18bca138",
   "metadata": {},
   "outputs": [],
   "source": [
    "# TABLE with Existing Data\n",
    "\n"
   ]
  },
  {
   "cell_type": "code",
   "execution_count": null,
   "id": "44be14da",
   "metadata": {},
   "outputs": [],
   "source": []
  },
  {
   "cell_type": "code",
   "execution_count": null,
   "id": "641cbf2a",
   "metadata": {},
   "outputs": [],
   "source": []
  },
  {
   "cell_type": "code",
   "execution_count": null,
   "id": "4e7880de",
   "metadata": {},
   "outputs": [],
   "source": []
  },
  {
   "cell_type": "code",
   "execution_count": null,
   "id": "64383da3",
   "metadata": {},
   "outputs": [],
   "source": []
  }
 ],
 "metadata": {
  "kernelspec": {
   "display_name": "Python 3 (ipykernel)",
   "language": "python",
   "name": "python3"
  },
  "language_info": {
   "codemirror_mode": {
    "name": "ipython",
    "version": 3
   },
   "file_extension": ".py",
   "mimetype": "text/x-python",
   "name": "python",
   "nbconvert_exporter": "python",
   "pygments_lexer": "ipython3",
   "version": "3.9.12"
  }
 },
 "nbformat": 4,
 "nbformat_minor": 5
}
